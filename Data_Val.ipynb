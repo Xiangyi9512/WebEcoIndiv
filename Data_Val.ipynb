{
 "cells": [
  {
   "cell_type": "code",
   "execution_count": 1,
   "metadata": {
    "collapsed": true
   },
   "outputs": [],
   "source": [
    "import pandas as pd"
   ]
  },
  {
   "cell_type": "code",
   "execution_count": 2,
   "metadata": {},
   "outputs": [
    {
     "data": {
      "text/plain": [
       "'C:\\\\Users\\\\yxy\\\\Desktop\\\\MSc Web Science and Big Data Analytics\\\\Web Economics\\\\Coursework'"
      ]
     },
     "execution_count": 2,
     "metadata": {},
     "output_type": "execute_result"
    }
   ],
   "source": [
    "import os\n",
    "os.getcwd()"
   ]
  },
  {
   "cell_type": "code",
   "execution_count": 3,
   "metadata": {
    "collapsed": true
   },
   "outputs": [],
   "source": [
    "validation = pd.read_csv('..\\\\Coursework\\\\Dataset\\\\validation.csv')"
   ]
  },
  {
   "cell_type": "code",
   "execution_count": 4,
   "metadata": {},
   "outputs": [
    {
     "data": {
      "text/html": [
       "<div>\n",
       "<style>\n",
       "    .dataframe thead tr:only-child th {\n",
       "        text-align: right;\n",
       "    }\n",
       "\n",
       "    .dataframe thead th {\n",
       "        text-align: left;\n",
       "    }\n",
       "\n",
       "    .dataframe tbody tr th {\n",
       "        vertical-align: top;\n",
       "    }\n",
       "</style>\n",
       "<table border=\"1\" class=\"dataframe\">\n",
       "  <thead>\n",
       "    <tr style=\"text-align: right;\">\n",
       "      <th></th>\n",
       "      <th>Bids</th>\n",
       "      <th>Imps</th>\n",
       "      <th>Clicks</th>\n",
       "      <th>Cost</th>\n",
       "      <th>CTR</th>\n",
       "      <th>CPM</th>\n",
       "      <th>eCPC</th>\n",
       "    </tr>\n",
       "  </thead>\n",
       "  <tbody>\n",
       "    <tr>\n",
       "      <th>1458</th>\n",
       "      <td>NaN</td>\n",
       "      <td>NaN</td>\n",
       "      <td>NaN</td>\n",
       "      <td>NaN</td>\n",
       "      <td>NaN</td>\n",
       "      <td>NaN</td>\n",
       "      <td>NaN</td>\n",
       "    </tr>\n",
       "    <tr>\n",
       "      <th>2259</th>\n",
       "      <td>NaN</td>\n",
       "      <td>NaN</td>\n",
       "      <td>NaN</td>\n",
       "      <td>NaN</td>\n",
       "      <td>NaN</td>\n",
       "      <td>NaN</td>\n",
       "      <td>NaN</td>\n",
       "    </tr>\n",
       "    <tr>\n",
       "      <th>2261</th>\n",
       "      <td>NaN</td>\n",
       "      <td>NaN</td>\n",
       "      <td>NaN</td>\n",
       "      <td>NaN</td>\n",
       "      <td>NaN</td>\n",
       "      <td>NaN</td>\n",
       "      <td>NaN</td>\n",
       "    </tr>\n",
       "    <tr>\n",
       "      <th>2821</th>\n",
       "      <td>NaN</td>\n",
       "      <td>NaN</td>\n",
       "      <td>NaN</td>\n",
       "      <td>NaN</td>\n",
       "      <td>NaN</td>\n",
       "      <td>NaN</td>\n",
       "      <td>NaN</td>\n",
       "    </tr>\n",
       "    <tr>\n",
       "      <th>2997</th>\n",
       "      <td>NaN</td>\n",
       "      <td>NaN</td>\n",
       "      <td>NaN</td>\n",
       "      <td>NaN</td>\n",
       "      <td>NaN</td>\n",
       "      <td>NaN</td>\n",
       "      <td>NaN</td>\n",
       "    </tr>\n",
       "    <tr>\n",
       "      <th>3358</th>\n",
       "      <td>NaN</td>\n",
       "      <td>NaN</td>\n",
       "      <td>NaN</td>\n",
       "      <td>NaN</td>\n",
       "      <td>NaN</td>\n",
       "      <td>NaN</td>\n",
       "      <td>NaN</td>\n",
       "    </tr>\n",
       "    <tr>\n",
       "      <th>3386</th>\n",
       "      <td>NaN</td>\n",
       "      <td>NaN</td>\n",
       "      <td>NaN</td>\n",
       "      <td>NaN</td>\n",
       "      <td>NaN</td>\n",
       "      <td>NaN</td>\n",
       "      <td>NaN</td>\n",
       "    </tr>\n",
       "    <tr>\n",
       "      <th>3427</th>\n",
       "      <td>NaN</td>\n",
       "      <td>NaN</td>\n",
       "      <td>NaN</td>\n",
       "      <td>NaN</td>\n",
       "      <td>NaN</td>\n",
       "      <td>NaN</td>\n",
       "      <td>NaN</td>\n",
       "    </tr>\n",
       "    <tr>\n",
       "      <th>3476</th>\n",
       "      <td>NaN</td>\n",
       "      <td>NaN</td>\n",
       "      <td>NaN</td>\n",
       "      <td>NaN</td>\n",
       "      <td>NaN</td>\n",
       "      <td>NaN</td>\n",
       "      <td>NaN</td>\n",
       "    </tr>\n",
       "  </tbody>\n",
       "</table>\n",
       "</div>"
      ],
      "text/plain": [
       "     Bids Imps Clicks Cost  CTR  CPM eCPC\n",
       "1458  NaN  NaN    NaN  NaN  NaN  NaN  NaN\n",
       "2259  NaN  NaN    NaN  NaN  NaN  NaN  NaN\n",
       "2261  NaN  NaN    NaN  NaN  NaN  NaN  NaN\n",
       "2821  NaN  NaN    NaN  NaN  NaN  NaN  NaN\n",
       "2997  NaN  NaN    NaN  NaN  NaN  NaN  NaN\n",
       "3358  NaN  NaN    NaN  NaN  NaN  NaN  NaN\n",
       "3386  NaN  NaN    NaN  NaN  NaN  NaN  NaN\n",
       "3427  NaN  NaN    NaN  NaN  NaN  NaN  NaN\n",
       "3476  NaN  NaN    NaN  NaN  NaN  NaN  NaN"
      ]
     },
     "execution_count": 4,
     "metadata": {},
     "output_type": "execute_result"
    }
   ],
   "source": [
    "adv_num = validation['advertiser'].unique()\n",
    "adv_num.sort()\n",
    "validation_stats = pd.DataFrame(index=adv_num, columns=['Bids', 'Imps', 'Clicks', 'Cost', 'CTR', 'CPM', 'eCPC'])\n",
    "validation_stats"
   ]
  },
  {
   "cell_type": "code",
   "execution_count": 5,
   "metadata": {
    "collapsed": true
   },
   "outputs": [],
   "source": [
    "def validation_bids():\n",
    "    for adv in adv_num:\n",
    "        adv_rows = validation[validation['advertiser']==adv]\n",
    "        adv_bids = adv_rows['bidprice'].sum()\n",
    "        validation_stats.loc[adv, 'Bids'] = adv_bids"
   ]
  },
  {
   "cell_type": "code",
   "execution_count": 6,
   "metadata": {},
   "outputs": [
    {
     "name": "stdout",
     "output_type": "stream",
     "text": [
      "          Bids Imps Clicks Cost  CTR  CPM eCPC\n",
      "1458  18705900  NaN    NaN  NaN  NaN  NaN  NaN\n",
      "2259   4814539  NaN    NaN  NaN  NaN  NaN  NaN\n",
      "2261   3900349  NaN    NaN  NaN  NaN  NaN  NaN\n",
      "2821   7691157  NaN    NaN  NaN  NaN  NaN  NaN\n",
      "2997   1710752  NaN    NaN  NaN  NaN  NaN  NaN\n",
      "3358   7673642  NaN    NaN  NaN  NaN  NaN  NaN\n",
      "3386  16999500  NaN    NaN  NaN  NaN  NaN  NaN\n",
      "3427  11863984  NaN    NaN  NaN  NaN  NaN  NaN\n",
      "3476   9627840  NaN    NaN  NaN  NaN  NaN  NaN\n"
     ]
    }
   ],
   "source": [
    "validation_bids()\n",
    "print(validation_stats)"
   ]
  },
  {
   "cell_type": "code",
   "execution_count": 7,
   "metadata": {
    "collapsed": true
   },
   "outputs": [],
   "source": [
    "def validation_Imps():\n",
    "    for adv in adv_num:\n",
    "        adv_rows = validation[validation['advertiser']==adv]\n",
    "        adv_Imps = adv_rows.shape[0]\n",
    "        validation_stats.loc[adv, 'Imps'] = adv_Imps"
   ]
  },
  {
   "cell_type": "code",
   "execution_count": 8,
   "metadata": {},
   "outputs": [
    {
     "name": "stdout",
     "output_type": "stream",
     "text": [
      "          Bids   Imps Clicks Cost  CTR  CPM eCPC\n",
      "1458  18705900  62353    NaN  NaN  NaN  NaN  NaN\n",
      "2259   4814539  16715    NaN  NaN  NaN  NaN  NaN\n",
      "2261   3900349  13550    NaN  NaN  NaN  NaN  NaN\n",
      "2821   7691157  26503    NaN  NaN  NaN  NaN  NaN\n",
      "2997   1710752   6176    NaN  NaN  NaN  NaN  NaN\n",
      "3358   7673642  32939    NaN  NaN  NaN  NaN  NaN\n",
      "3386  16999500  56665    NaN  NaN  NaN  NaN  NaN\n",
      "3427  11863984  50183    NaN  NaN  NaN  NaN  NaN\n",
      "3476   9627840  38841    NaN  NaN  NaN  NaN  NaN\n"
     ]
    }
   ],
   "source": [
    "validation_Imps()\n",
    "print(validation_stats)"
   ]
  },
  {
   "cell_type": "code",
   "execution_count": 9,
   "metadata": {
    "collapsed": true
   },
   "outputs": [],
   "source": [
    "def validation_Clicks():\n",
    "    for adv in adv_num:\n",
    "        adv_rows = validation[validation['advertiser']==adv]\n",
    "        adv_Clicks = adv_rows['click'].sum()\n",
    "        validation_stats.loc[adv, 'Clicks'] = adv_Clicks"
   ]
  },
  {
   "cell_type": "code",
   "execution_count": 10,
   "metadata": {},
   "outputs": [
    {
     "name": "stdout",
     "output_type": "stream",
     "text": [
      "          Bids   Imps Clicks Cost  CTR  CPM eCPC\n",
      "1458  18705900  62353     49  NaN  NaN  NaN  NaN\n",
      "2259   4814539  16715      2  NaN  NaN  NaN  NaN\n",
      "2261   3900349  13550      3  NaN  NaN  NaN  NaN\n",
      "2821   7691157  26503     23  NaN  NaN  NaN  NaN\n",
      "2997   1710752   6176     26  NaN  NaN  NaN  NaN\n",
      "3358   7673642  32939     23  NaN  NaN  NaN  NaN\n",
      "3386  16999500  56665     28  NaN  NaN  NaN  NaN\n",
      "3427  11863984  50183     37  NaN  NaN  NaN  NaN\n",
      "3476   9627840  38841     11  NaN  NaN  NaN  NaN\n"
     ]
    }
   ],
   "source": [
    "validation_Clicks()\n",
    "print(validation_stats)"
   ]
  },
  {
   "cell_type": "code",
   "execution_count": 11,
   "metadata": {
    "collapsed": true
   },
   "outputs": [],
   "source": [
    "def validation_Cost():\n",
    "    for adv in adv_num:\n",
    "        adv_rows = validation[validation['advertiser']==adv]\n",
    "        adv_Cost = (adv_rows['payprice']/1000).sum()\n",
    "        validation_stats.loc[adv, 'Cost'] = \"{:.2f}\".format(adv_Cost)"
   ]
  },
  {
   "cell_type": "code",
   "execution_count": 12,
   "metadata": {},
   "outputs": [
    {
     "name": "stdout",
     "output_type": "stream",
     "text": [
      "          Bids   Imps Clicks     Cost  CTR  CPM eCPC\n",
      "1458  18705900  62353     49  4294.60  NaN  NaN  NaN\n",
      "2259   4814539  16715      2  1568.81  NaN  NaN  NaN\n",
      "2261   3900349  13550      3  1214.88  NaN  NaN  NaN\n",
      "2821   7691157  26503     23  2394.90  NaN  NaN  NaN\n",
      "2997   1710752   6176     26   388.78  NaN  NaN  NaN\n",
      "3358   7673642  32939     23  2794.02  NaN  NaN  NaN\n",
      "3386  16999500  56665     28  4350.79  NaN  NaN  NaN\n",
      "3427  11863984  50183     37  3776.74  NaN  NaN  NaN\n",
      "3476   9627840  38841     11  2993.75  NaN  NaN  NaN\n"
     ]
    }
   ],
   "source": [
    "validation_Cost()\n",
    "print(validation_stats)"
   ]
  },
  {
   "cell_type": "code",
   "execution_count": 13,
   "metadata": {
    "collapsed": true
   },
   "outputs": [],
   "source": [
    "def validation_CTR():\n",
    "    for adv in adv_num:\n",
    "        adv_rows = validation[validation['advertiser']==adv]\n",
    "        adv_Clicks = adv_rows['click'].sum()\n",
    "        adv_Imps = adv_rows.shape[0]\n",
    "        adv_CTR = adv_Clicks / adv_Imps * 100\n",
    "        validation_stats.loc[adv, 'CTR'] = \"{:.2f}%\".format(adv_CTR)"
   ]
  },
  {
   "cell_type": "code",
   "execution_count": 14,
   "metadata": {},
   "outputs": [
    {
     "name": "stdout",
     "output_type": "stream",
     "text": [
      "          Bids   Imps Clicks     Cost    CTR  CPM eCPC\n",
      "1458  18705900  62353     49  4294.60  0.08%  NaN  NaN\n",
      "2259   4814539  16715      2  1568.81  0.01%  NaN  NaN\n",
      "2261   3900349  13550      3  1214.88  0.02%  NaN  NaN\n",
      "2821   7691157  26503     23  2394.90  0.09%  NaN  NaN\n",
      "2997   1710752   6176     26   388.78  0.42%  NaN  NaN\n",
      "3358   7673642  32939     23  2794.02  0.07%  NaN  NaN\n",
      "3386  16999500  56665     28  4350.79  0.05%  NaN  NaN\n",
      "3427  11863984  50183     37  3776.74  0.07%  NaN  NaN\n",
      "3476   9627840  38841     11  2993.75  0.03%  NaN  NaN\n"
     ]
    }
   ],
   "source": [
    "validation_CTR()\n",
    "print(validation_stats)"
   ]
  },
  {
   "cell_type": "code",
   "execution_count": 15,
   "metadata": {
    "collapsed": true
   },
   "outputs": [],
   "source": [
    "def validation_CPM():\n",
    "    for adv in adv_num:\n",
    "        adv_rows = validation[validation['advertiser']==adv]\n",
    "        adv_CPM = adv_rows['payprice'].mean()\n",
    "        validation_stats.loc[adv, 'CPM'] = \"{:.2f}\".format(adv_CPM)"
   ]
  },
  {
   "cell_type": "code",
   "execution_count": 16,
   "metadata": {},
   "outputs": [
    {
     "name": "stdout",
     "output_type": "stream",
     "text": [
      "          Bids   Imps Clicks     Cost    CTR    CPM eCPC\n",
      "1458  18705900  62353     49  4294.60  0.08%  68.88  NaN\n",
      "2259   4814539  16715      2  1568.81  0.01%  93.86  NaN\n",
      "2261   3900349  13550      3  1214.88  0.02%  89.66  NaN\n",
      "2821   7691157  26503     23  2394.90  0.09%  90.36  NaN\n",
      "2997   1710752   6176     26   388.78  0.42%  62.95  NaN\n",
      "3358   7673642  32939     23  2794.02  0.07%  84.82  NaN\n",
      "3386  16999500  56665     28  4350.79  0.05%  76.78  NaN\n",
      "3427  11863984  50183     37  3776.74  0.07%  75.26  NaN\n",
      "3476   9627840  38841     11  2993.75  0.03%  77.08  NaN\n"
     ]
    }
   ],
   "source": [
    "validation_CPM()\n",
    "print(validation_stats)"
   ]
  },
  {
   "cell_type": "code",
   "execution_count": 17,
   "metadata": {
    "collapsed": true
   },
   "outputs": [],
   "source": [
    "def validation_eCPC():\n",
    "    for adv in adv_num:\n",
    "        adv_rows = validation[validation['advertiser']==adv]\n",
    "        adv_Cost = (adv_rows['payprice']/1000).sum()\n",
    "        adv_Clicks = adv_rows['click'].sum()\n",
    "        adv_eCPC = adv_Cost / adv_Clicks\n",
    "        validation_stats.loc[adv, 'eCPC'] = \"{:.2f}\".format(adv_eCPC)"
   ]
  },
  {
   "cell_type": "code",
   "execution_count": 18,
   "metadata": {},
   "outputs": [
    {
     "name": "stdout",
     "output_type": "stream",
     "text": [
      "          Bids   Imps Clicks     Cost    CTR    CPM    eCPC\n",
      "1458  18705900  62353     49  4294.60  0.08%  68.88   87.64\n",
      "2259   4814539  16715      2  1568.81  0.01%  93.86  784.40\n",
      "2261   3900349  13550      3  1214.88  0.02%  89.66  404.96\n",
      "2821   7691157  26503     23  2394.90  0.09%  90.36  104.13\n",
      "2997   1710752   6176     26   388.78  0.42%  62.95   14.95\n",
      "3358   7673642  32939     23  2794.02  0.07%  84.82  121.48\n",
      "3386  16999500  56665     28  4350.79  0.05%  76.78  155.39\n",
      "3427  11863984  50183     37  3776.74  0.07%  75.26  102.07\n",
      "3476   9627840  38841     11  2993.75  0.03%  77.08  272.16\n"
     ]
    }
   ],
   "source": [
    "validation_eCPC()\n",
    "print(validation_stats)"
   ]
  },
  {
   "cell_type": "code",
   "execution_count": 19,
   "metadata": {},
   "outputs": [
    {
     "name": "stdout",
     "output_type": "stream",
     "text": [
      "\\begin{tabular}{llllllll}\n",
      "\\toprule\n",
      "{} &      Bids &   Imps & Clicks &     Cost &    CTR &    CPM &    eCPC \\\\\n",
      "\\midrule\n",
      "1458 &  18705900 &  62353 &     49 &  4294.60 &  0.08\\% &  68.88 &   87.64 \\\\\n",
      "2259 &   4814539 &  16715 &      2 &  1568.81 &  0.01\\% &  93.86 &  784.40 \\\\\n",
      "2261 &   3900349 &  13550 &      3 &  1214.88 &  0.02\\% &  89.66 &  404.96 \\\\\n",
      "2821 &   7691157 &  26503 &     23 &  2394.90 &  0.09\\% &  90.36 &  104.13 \\\\\n",
      "2997 &   1710752 &   6176 &     26 &   388.78 &  0.42\\% &  62.95 &   14.95 \\\\\n",
      "3358 &   7673642 &  32939 &     23 &  2794.02 &  0.07\\% &  84.82 &  121.48 \\\\\n",
      "3386 &  16999500 &  56665 &     28 &  4350.79 &  0.05\\% &  76.78 &  155.39 \\\\\n",
      "3427 &  11863984 &  50183 &     37 &  3776.74 &  0.07\\% &  75.26 &  102.07 \\\\\n",
      "3476 &   9627840 &  38841 &     11 &  2993.75 &  0.03\\% &  77.08 &  272.16 \\\\\n",
      "\\bottomrule\n",
      "\\end{tabular}\n",
      "\n"
     ]
    }
   ],
   "source": [
    "print (validation_stats.to_latex())"
   ]
  }
 ],
 "metadata": {
  "kernelspec": {
   "display_name": "Python 3",
   "language": "python",
   "name": "python3"
  },
  "language_info": {
   "codemirror_mode": {
    "name": "ipython",
    "version": 3
   },
   "file_extension": ".py",
   "mimetype": "text/x-python",
   "name": "python",
   "nbconvert_exporter": "python",
   "pygments_lexer": "ipython3",
   "version": "3.6.3"
  }
 },
 "nbformat": 4,
 "nbformat_minor": 2
}
